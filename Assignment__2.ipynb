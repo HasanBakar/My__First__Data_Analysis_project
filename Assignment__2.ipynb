{
 "cells": [
  {
   "cell_type": "markdown",
   "id": "2de13077",
   "metadata": {},
   "source": [
    "# ;==========================================\n",
    "# Submitted to:\n",
    "## Tanvir Azhar\n",
    "### Lecturer, \n",
    "### Faculty of CSE.\n",
    "### University of Creative Technology, Chittagong\n",
    "\n",
    "\n",
    "# ;==========================================\n",
    "# Submitted by:\n",
    "# Abu Bakar\n",
    "# ID No: 190311002\n",
    "## Level: 3\t\t\n",
    "## Semester: 6th\n",
    "### Session:  Autumn-2022\n",
    "### Department of CSE, UCTC\n",
    "\n"
   ]
  },
  {
   "cell_type": "code",
   "execution_count": 3,
   "id": "c16b7d2f",
   "metadata": {},
   "outputs": [],
   "source": [
    "import pandas as pd\n",
    "import matplotlib.pyplot as plt\n",
    "import seaborn as sns"
   ]
  },
  {
   "cell_type": "code",
   "execution_count": 4,
   "id": "4a32c396",
   "metadata": {},
   "outputs": [],
   "source": [
    "data = pd.read_csv(\"nobel_final.csv\")"
   ]
  },
  {
   "cell_type": "markdown",
   "id": "768fbd02",
   "metadata": {},
   "source": [
    "The pandas library is include and file is read with the above commands."
   ]
  },
  {
   "cell_type": "markdown",
   "id": "76c77e0f",
   "metadata": {},
   "source": [
    "# 1. Display Top three rows of the dataset. "
   ]
  },
  {
   "cell_type": "code",
   "execution_count": 5,
   "id": "536e63b5",
   "metadata": {},
   "outputs": [
    {
     "data": {
      "text/html": [
       "<div>\n",
       "<style scoped>\n",
       "    .dataframe tbody tr th:only-of-type {\n",
       "        vertical-align: middle;\n",
       "    }\n",
       "\n",
       "    .dataframe tbody tr th {\n",
       "        vertical-align: top;\n",
       "    }\n",
       "\n",
       "    .dataframe thead th {\n",
       "        text-align: right;\n",
       "    }\n",
       "</style>\n",
       "<table border=\"1\" class=\"dataframe\">\n",
       "  <thead>\n",
       "    <tr style=\"text-align: right;\">\n",
       "      <th></th>\n",
       "      <th>firstname</th>\n",
       "      <th>surname</th>\n",
       "      <th>born_country_code</th>\n",
       "      <th>died_country_code</th>\n",
       "      <th>gender</th>\n",
       "      <th>year</th>\n",
       "      <th>category</th>\n",
       "      <th>share</th>\n",
       "      <th>name_of_university</th>\n",
       "      <th>city_of_university</th>\n",
       "      <th>country_of_university</th>\n",
       "      <th>born_month</th>\n",
       "      <th>age</th>\n",
       "      <th>age_get_prize</th>\n",
       "    </tr>\n",
       "  </thead>\n",
       "  <tbody>\n",
       "    <tr>\n",
       "      <th>0</th>\n",
       "      <td>Wilhelm Conrad</td>\n",
       "      <td>Röntgen</td>\n",
       "      <td>DE</td>\n",
       "      <td>DE</td>\n",
       "      <td>male</td>\n",
       "      <td>1901</td>\n",
       "      <td>physics</td>\n",
       "      <td>1</td>\n",
       "      <td>Munich University</td>\n",
       "      <td>Munich</td>\n",
       "      <td>Germany</td>\n",
       "      <td>Mar</td>\n",
       "      <td>78</td>\n",
       "      <td>56</td>\n",
       "    </tr>\n",
       "    <tr>\n",
       "      <th>1</th>\n",
       "      <td>Hendrik A.</td>\n",
       "      <td>Lorentz</td>\n",
       "      <td>NL</td>\n",
       "      <td>NL</td>\n",
       "      <td>male</td>\n",
       "      <td>1902</td>\n",
       "      <td>physics</td>\n",
       "      <td>2</td>\n",
       "      <td>Leiden University</td>\n",
       "      <td>Leiden</td>\n",
       "      <td>the Netherlands</td>\n",
       "      <td>Jul</td>\n",
       "      <td>75</td>\n",
       "      <td>49</td>\n",
       "    </tr>\n",
       "    <tr>\n",
       "      <th>2</th>\n",
       "      <td>Pieter</td>\n",
       "      <td>Zeeman</td>\n",
       "      <td>NL</td>\n",
       "      <td>NL</td>\n",
       "      <td>male</td>\n",
       "      <td>1902</td>\n",
       "      <td>physics</td>\n",
       "      <td>2</td>\n",
       "      <td>Amsterdam University</td>\n",
       "      <td>Amsterdam</td>\n",
       "      <td>the Netherlands</td>\n",
       "      <td>May</td>\n",
       "      <td>78</td>\n",
       "      <td>37</td>\n",
       "    </tr>\n",
       "  </tbody>\n",
       "</table>\n",
       "</div>"
      ],
      "text/plain": [
       "        firstname  surname born_country_code died_country_code gender  year  \\\n",
       "0  Wilhelm Conrad  Röntgen                DE                DE   male  1901   \n",
       "1      Hendrik A.  Lorentz                NL                NL   male  1902   \n",
       "2          Pieter   Zeeman                NL                NL   male  1902   \n",
       "\n",
       "  category  share    name_of_university city_of_university  \\\n",
       "0  physics      1     Munich University             Munich   \n",
       "1  physics      2     Leiden University             Leiden   \n",
       "2  physics      2  Amsterdam University          Amsterdam   \n",
       "\n",
       "  country_of_university born_month  age  age_get_prize  \n",
       "0               Germany        Mar   78             56  \n",
       "1       the Netherlands        Jul   75             49  \n",
       "2       the Netherlands        May   78             37  "
      ]
     },
     "execution_count": 5,
     "metadata": {},
     "output_type": "execute_result"
    }
   ],
   "source": [
    "data.head(3)"
   ]
  },
  {
   "cell_type": "markdown",
   "id": "99e3aeb7",
   "metadata": {},
   "source": [
    "# 2. Check last three rows of the dataset."
   ]
  },
  {
   "cell_type": "code",
   "execution_count": 6,
   "id": "179fc230",
   "metadata": {},
   "outputs": [
    {
     "data": {
      "text/html": [
       "<div>\n",
       "<style scoped>\n",
       "    .dataframe tbody tr th:only-of-type {\n",
       "        vertical-align: middle;\n",
       "    }\n",
       "\n",
       "    .dataframe tbody tr th {\n",
       "        vertical-align: top;\n",
       "    }\n",
       "\n",
       "    .dataframe thead th {\n",
       "        text-align: right;\n",
       "    }\n",
       "</style>\n",
       "<table border=\"1\" class=\"dataframe\">\n",
       "  <thead>\n",
       "    <tr style=\"text-align: right;\">\n",
       "      <th></th>\n",
       "      <th>firstname</th>\n",
       "      <th>surname</th>\n",
       "      <th>born_country_code</th>\n",
       "      <th>died_country_code</th>\n",
       "      <th>gender</th>\n",
       "      <th>year</th>\n",
       "      <th>category</th>\n",
       "      <th>share</th>\n",
       "      <th>name_of_university</th>\n",
       "      <th>city_of_university</th>\n",
       "      <th>country_of_university</th>\n",
       "      <th>born_month</th>\n",
       "      <th>age</th>\n",
       "      <th>age_get_prize</th>\n",
       "    </tr>\n",
       "  </thead>\n",
       "  <tbody>\n",
       "    <tr>\n",
       "      <th>920</th>\n",
       "      <td>Abhijit</td>\n",
       "      <td>Banerjee</td>\n",
       "      <td>IN</td>\n",
       "      <td>NaN</td>\n",
       "      <td>male</td>\n",
       "      <td>2019</td>\n",
       "      <td>economics</td>\n",
       "      <td>3</td>\n",
       "      <td>Massachusetts Institute of Technology (MIT)</td>\n",
       "      <td>Cambridge MA</td>\n",
       "      <td>USA</td>\n",
       "      <td>Feb</td>\n",
       "      <td>59</td>\n",
       "      <td>58</td>\n",
       "    </tr>\n",
       "    <tr>\n",
       "      <th>921</th>\n",
       "      <td>Esther</td>\n",
       "      <td>Duflo</td>\n",
       "      <td>FR</td>\n",
       "      <td>NaN</td>\n",
       "      <td>female</td>\n",
       "      <td>2019</td>\n",
       "      <td>economics</td>\n",
       "      <td>3</td>\n",
       "      <td>Massachusetts Institute of Technology (MIT)</td>\n",
       "      <td>Cambridge MA</td>\n",
       "      <td>USA</td>\n",
       "      <td>Oct</td>\n",
       "      <td>48</td>\n",
       "      <td>47</td>\n",
       "    </tr>\n",
       "    <tr>\n",
       "      <th>922</th>\n",
       "      <td>Michael</td>\n",
       "      <td>Kremer</td>\n",
       "      <td>US</td>\n",
       "      <td>NaN</td>\n",
       "      <td>male</td>\n",
       "      <td>2019</td>\n",
       "      <td>economics</td>\n",
       "      <td>3</td>\n",
       "      <td>Harvard University</td>\n",
       "      <td>Cambridge MA</td>\n",
       "      <td>USA</td>\n",
       "      <td>Nov</td>\n",
       "      <td>56</td>\n",
       "      <td>55</td>\n",
       "    </tr>\n",
       "  </tbody>\n",
       "</table>\n",
       "</div>"
      ],
      "text/plain": [
       "    firstname   surname born_country_code died_country_code  gender  year  \\\n",
       "920   Abhijit  Banerjee                IN               NaN    male  2019   \n",
       "921    Esther     Duflo                FR               NaN  female  2019   \n",
       "922   Michael    Kremer                US               NaN    male  2019   \n",
       "\n",
       "      category  share                           name_of_university  \\\n",
       "920  economics      3  Massachusetts Institute of Technology (MIT)   \n",
       "921  economics      3  Massachusetts Institute of Technology (MIT)   \n",
       "922  economics      3                           Harvard University   \n",
       "\n",
       "    city_of_university country_of_university born_month  age  age_get_prize  \n",
       "920       Cambridge MA                   USA        Feb   59             58  \n",
       "921       Cambridge MA                   USA        Oct   48             47  \n",
       "922       Cambridge MA                   USA        Nov   56             55  "
      ]
     },
     "execution_count": 6,
     "metadata": {},
     "output_type": "execute_result"
    }
   ],
   "source": [
    "data.tail(3)"
   ]
  },
  {
   "cell_type": "markdown",
   "id": "cac44b89",
   "metadata": {},
   "source": [
    "Verify that the file is loaded properly with the above two commands. The first command shows the top three rows of the file and the second command shows the bottom three rows of the file."
   ]
  },
  {
   "cell_type": "markdown",
   "id": "c292c8eb",
   "metadata": {},
   "source": [
    "#  3. Find shape of our dataset (Number of rows and Number of columns)"
   ]
  },
  {
   "cell_type": "code",
   "execution_count": 7,
   "id": "bc2742ab",
   "metadata": {},
   "outputs": [
    {
     "data": {
      "text/plain": [
       "(923, 14)"
      ]
     },
     "execution_count": 7,
     "metadata": {},
     "output_type": "execute_result"
    }
   ],
   "source": [
    "data.shape"
   ]
  },
  {
   "cell_type": "code",
   "execution_count": 9,
   "id": "14611acf",
   "metadata": {},
   "outputs": [
    {
     "name": "stdout",
     "output_type": "stream",
     "text": [
      "Total number of rows of dataset is equal to  923\n",
      "Total number of columns of dataset is equal to  14\n"
     ]
    }
   ],
   "source": [
    "print(\"Total number of rows of dataset is equal to \",data.shape[0])\n",
    "print(\"Total number of columns of dataset is equal to \",data.shape[1])"
   ]
  },
  {
   "cell_type": "markdown",
   "id": "f5367127",
   "metadata": {},
   "source": [
    "# 4. Get Information About Our Dataset such as Total number of rows, Total number of columns, Data types of each column and Memory requirement"
   ]
  },
  {
   "cell_type": "code",
   "execution_count": 8,
   "id": "50330f7f",
   "metadata": {},
   "outputs": [
    {
     "name": "stdout",
     "output_type": "stream",
     "text": [
      "<class 'pandas.core.frame.DataFrame'>\n",
      "RangeIndex: 923 entries, 0 to 922\n",
      "Data columns (total 14 columns):\n",
      " #   Column                 Non-Null Count  Dtype \n",
      "---  ------                 --------------  ----- \n",
      " 0   firstname              923 non-null    object\n",
      " 1   surname                921 non-null    object\n",
      " 2   born_country_code      923 non-null    object\n",
      " 3   died_country_code      617 non-null    object\n",
      " 4   gender                 923 non-null    object\n",
      " 5   year                   923 non-null    int64 \n",
      " 6   category               923 non-null    object\n",
      " 7   share                  923 non-null    int64 \n",
      " 8   name_of_university     697 non-null    object\n",
      " 9   city_of_university     692 non-null    object\n",
      " 10  country_of_university  693 non-null    object\n",
      " 11  born_month             923 non-null    object\n",
      " 12  age                    923 non-null    int64 \n",
      " 13  age_get_prize          923 non-null    int64 \n",
      "dtypes: int64(4), object(10)\n",
      "memory usage: 101.1+ KB\n"
     ]
    }
   ],
   "source": [
    "data.info()"
   ]
  },
  {
   "cell_type": "markdown",
   "id": "28b624bc",
   "metadata": {},
   "source": [
    "We can see that there are 923 entries. There are total 14 columns. Four integers and ten objects data types. More than 101.1kb memory used. There are index is 0 to 922."
   ]
  },
  {
   "cell_type": "markdown",
   "id": "df1eeac8",
   "metadata": {},
   "source": [
    "# 5. Check null value in dataset."
   ]
  },
  {
   "cell_type": "code",
   "execution_count": 9,
   "id": "73ab6f9d",
   "metadata": {},
   "outputs": [
    {
     "data": {
      "text/plain": [
       "firstname                  0\n",
       "surname                    2\n",
       "born_country_code          0\n",
       "died_country_code        306\n",
       "gender                     0\n",
       "year                       0\n",
       "category                   0\n",
       "share                      0\n",
       "name_of_university       226\n",
       "city_of_university       231\n",
       "country_of_university    230\n",
       "born_month                 0\n",
       "age                        0\n",
       "age_get_prize              0\n",
       "dtype: int64"
      ]
     },
     "execution_count": 9,
     "metadata": {},
     "output_type": "execute_result"
    }
   ],
   "source": [
    "data.isnull().sum(axis=0)"
   ]
  },
  {
   "cell_type": "markdown",
   "id": "f0400ec6",
   "metadata": {},
   "source": [
    "Here, we clearly see that there are too many null values. such as Two surname missing, Three hundred and six died_country_code value missing,Two hundred and twenty-six university value missing, Two hundred thirty-one city_of_university value missing, and Two hundred thirty country_of_university value missing."
   ]
  },
  {
   "cell_type": "markdown",
   "id": "d8cfd81e",
   "metadata": {},
   "source": [
    "# 6. Get overall Statistics about the dataframe."
   ]
  },
  {
   "cell_type": "code",
   "execution_count": 10,
   "id": "12848e5e",
   "metadata": {},
   "outputs": [
    {
     "data": {
      "text/html": [
       "<div>\n",
       "<style scoped>\n",
       "    .dataframe tbody tr th:only-of-type {\n",
       "        vertical-align: middle;\n",
       "    }\n",
       "\n",
       "    .dataframe tbody tr th {\n",
       "        vertical-align: top;\n",
       "    }\n",
       "\n",
       "    .dataframe thead th {\n",
       "        text-align: right;\n",
       "    }\n",
       "</style>\n",
       "<table border=\"1\" class=\"dataframe\">\n",
       "  <thead>\n",
       "    <tr style=\"text-align: right;\">\n",
       "      <th></th>\n",
       "      <th>year</th>\n",
       "      <th>share</th>\n",
       "      <th>age</th>\n",
       "      <th>age_get_prize</th>\n",
       "    </tr>\n",
       "  </thead>\n",
       "  <tbody>\n",
       "    <tr>\n",
       "      <th>count</th>\n",
       "      <td>923.000000</td>\n",
       "      <td>923.000000</td>\n",
       "      <td>923.000000</td>\n",
       "      <td>923.000000</td>\n",
       "    </tr>\n",
       "    <tr>\n",
       "      <th>mean</th>\n",
       "      <td>1971.102925</td>\n",
       "      <td>2.020585</td>\n",
       "      <td>79.346696</td>\n",
       "      <td>59.823402</td>\n",
       "    </tr>\n",
       "    <tr>\n",
       "      <th>std</th>\n",
       "      <td>33.606425</td>\n",
       "      <td>0.943415</td>\n",
       "      <td>11.134606</td>\n",
       "      <td>12.571109</td>\n",
       "    </tr>\n",
       "    <tr>\n",
       "      <th>min</th>\n",
       "      <td>1901.000000</td>\n",
       "      <td>1.000000</td>\n",
       "      <td>23.000000</td>\n",
       "      <td>17.000000</td>\n",
       "    </tr>\n",
       "    <tr>\n",
       "      <th>25%</th>\n",
       "      <td>1947.000000</td>\n",
       "      <td>1.000000</td>\n",
       "      <td>73.000000</td>\n",
       "      <td>51.000000</td>\n",
       "    </tr>\n",
       "    <tr>\n",
       "      <th>50%</th>\n",
       "      <td>1977.000000</td>\n",
       "      <td>2.000000</td>\n",
       "      <td>80.000000</td>\n",
       "      <td>60.000000</td>\n",
       "    </tr>\n",
       "    <tr>\n",
       "      <th>75%</th>\n",
       "      <td>2000.000000</td>\n",
       "      <td>3.000000</td>\n",
       "      <td>87.500000</td>\n",
       "      <td>69.000000</td>\n",
       "    </tr>\n",
       "    <tr>\n",
       "      <th>max</th>\n",
       "      <td>2019.000000</td>\n",
       "      <td>4.000000</td>\n",
       "      <td>103.000000</td>\n",
       "      <td>97.000000</td>\n",
       "    </tr>\n",
       "  </tbody>\n",
       "</table>\n",
       "</div>"
      ],
      "text/plain": [
       "              year       share         age  age_get_prize\n",
       "count   923.000000  923.000000  923.000000     923.000000\n",
       "mean   1971.102925    2.020585   79.346696      59.823402\n",
       "std      33.606425    0.943415   11.134606      12.571109\n",
       "min    1901.000000    1.000000   23.000000      17.000000\n",
       "25%    1947.000000    1.000000   73.000000      51.000000\n",
       "50%    1977.000000    2.000000   80.000000      60.000000\n",
       "75%    2000.000000    3.000000   87.500000      69.000000\n",
       "max    2019.000000    4.000000  103.000000      97.000000"
      ]
     },
     "execution_count": 10,
     "metadata": {},
     "output_type": "execute_result"
    }
   ],
   "source": [
    "data.describe()"
   ]
  },
  {
   "cell_type": "markdown",
   "id": "a2fc44ae",
   "metadata": {},
   "source": [
    "# 7. Find unique values from the gender column"
   ]
  },
  {
   "cell_type": "code",
   "execution_count": 11,
   "id": "50abb62f",
   "metadata": {},
   "outputs": [
    {
     "data": {
      "text/html": [
       "<div>\n",
       "<style scoped>\n",
       "    .dataframe tbody tr th:only-of-type {\n",
       "        vertical-align: middle;\n",
       "    }\n",
       "\n",
       "    .dataframe tbody tr th {\n",
       "        vertical-align: top;\n",
       "    }\n",
       "\n",
       "    .dataframe thead th {\n",
       "        text-align: right;\n",
       "    }\n",
       "</style>\n",
       "<table border=\"1\" class=\"dataframe\">\n",
       "  <thead>\n",
       "    <tr style=\"text-align: right;\">\n",
       "      <th></th>\n",
       "      <th>firstname</th>\n",
       "      <th>surname</th>\n",
       "      <th>born_country_code</th>\n",
       "      <th>died_country_code</th>\n",
       "      <th>gender</th>\n",
       "      <th>year</th>\n",
       "      <th>category</th>\n",
       "      <th>share</th>\n",
       "      <th>name_of_university</th>\n",
       "      <th>city_of_university</th>\n",
       "      <th>country_of_university</th>\n",
       "      <th>born_month</th>\n",
       "      <th>age</th>\n",
       "      <th>age_get_prize</th>\n",
       "    </tr>\n",
       "  </thead>\n",
       "  <tbody>\n",
       "    <tr>\n",
       "      <th>0</th>\n",
       "      <td>Wilhelm Conrad</td>\n",
       "      <td>Röntgen</td>\n",
       "      <td>DE</td>\n",
       "      <td>DE</td>\n",
       "      <td>male</td>\n",
       "      <td>1901</td>\n",
       "      <td>physics</td>\n",
       "      <td>1</td>\n",
       "      <td>Munich University</td>\n",
       "      <td>Munich</td>\n",
       "      <td>Germany</td>\n",
       "      <td>Mar</td>\n",
       "      <td>78</td>\n",
       "      <td>56</td>\n",
       "    </tr>\n",
       "    <tr>\n",
       "      <th>1</th>\n",
       "      <td>Hendrik A.</td>\n",
       "      <td>Lorentz</td>\n",
       "      <td>NL</td>\n",
       "      <td>NL</td>\n",
       "      <td>male</td>\n",
       "      <td>1902</td>\n",
       "      <td>physics</td>\n",
       "      <td>2</td>\n",
       "      <td>Leiden University</td>\n",
       "      <td>Leiden</td>\n",
       "      <td>the Netherlands</td>\n",
       "      <td>Jul</td>\n",
       "      <td>75</td>\n",
       "      <td>49</td>\n",
       "    </tr>\n",
       "  </tbody>\n",
       "</table>\n",
       "</div>"
      ],
      "text/plain": [
       "        firstname  surname born_country_code died_country_code gender  year  \\\n",
       "0  Wilhelm Conrad  Röntgen                DE                DE   male  1901   \n",
       "1      Hendrik A.  Lorentz                NL                NL   male  1902   \n",
       "\n",
       "  category  share name_of_university city_of_university country_of_university  \\\n",
       "0  physics      1  Munich University             Munich               Germany   \n",
       "1  physics      2  Leiden University             Leiden       the Netherlands   \n",
       "\n",
       "  born_month  age  age_get_prize  \n",
       "0        Mar   78             56  \n",
       "1        Jul   75             49  "
      ]
     },
     "execution_count": 11,
     "metadata": {},
     "output_type": "execute_result"
    }
   ],
   "source": [
    "data.head(2)"
   ]
  },
  {
   "cell_type": "code",
   "execution_count": 12,
   "id": "a66e6f8b",
   "metadata": {},
   "outputs": [
    {
     "data": {
      "text/plain": [
       "array(['male', 'female'], dtype=object)"
      ]
     },
     "execution_count": 12,
     "metadata": {},
     "output_type": "execute_result"
    }
   ],
   "source": [
    "data[\"gender\"].unique()"
   ]
  },
  {
   "cell_type": "markdown",
   "id": "670c56a9",
   "metadata": {},
   "source": [
    "# 8. Find the number of unique values from the gender column"
   ]
  },
  {
   "cell_type": "code",
   "execution_count": 13,
   "id": "b93ad332",
   "metadata": {},
   "outputs": [
    {
     "data": {
      "text/plain": [
       "2"
      ]
     },
     "execution_count": 13,
     "metadata": {},
     "output_type": "execute_result"
    }
   ],
   "source": [
    "data[\"gender\"].nunique()"
   ]
  },
  {
   "cell_type": "markdown",
   "id": "660f3b3d",
   "metadata": {},
   "source": [
    "# 9. Display count of unique values in gender column"
   ]
  },
  {
   "cell_type": "code",
   "execution_count": 14,
   "id": "55f22969",
   "metadata": {},
   "outputs": [],
   "source": [
    "by_gender = data[\"gender\"].value_counts().rename_axis('gender').reset_index(name='counts')"
   ]
  },
  {
   "cell_type": "code",
   "execution_count": 15,
   "id": "105d9c01",
   "metadata": {},
   "outputs": [
    {
     "data": {
      "text/html": [
       "<div>\n",
       "<style scoped>\n",
       "    .dataframe tbody tr th:only-of-type {\n",
       "        vertical-align: middle;\n",
       "    }\n",
       "\n",
       "    .dataframe tbody tr th {\n",
       "        vertical-align: top;\n",
       "    }\n",
       "\n",
       "    .dataframe thead th {\n",
       "        text-align: right;\n",
       "    }\n",
       "</style>\n",
       "<table border=\"1\" class=\"dataframe\">\n",
       "  <thead>\n",
       "    <tr style=\"text-align: right;\">\n",
       "      <th></th>\n",
       "      <th>gender</th>\n",
       "      <th>counts</th>\n",
       "    </tr>\n",
       "  </thead>\n",
       "  <tbody>\n",
       "    <tr>\n",
       "      <th>0</th>\n",
       "      <td>male</td>\n",
       "      <td>869</td>\n",
       "    </tr>\n",
       "    <tr>\n",
       "      <th>1</th>\n",
       "      <td>female</td>\n",
       "      <td>54</td>\n",
       "    </tr>\n",
       "  </tbody>\n",
       "</table>\n",
       "</div>"
      ],
      "text/plain": [
       "   gender  counts\n",
       "0    male     869\n",
       "1  female      54"
      ]
     },
     "execution_count": 15,
     "metadata": {},
     "output_type": "execute_result"
    }
   ],
   "source": [
    "by_gender"
   ]
  },
  {
   "cell_type": "code",
   "execution_count": 16,
   "id": "01dc8b1d",
   "metadata": {},
   "outputs": [
    {
     "data": {
      "text/plain": [
       "923"
      ]
     },
     "execution_count": 16,
     "metadata": {},
     "output_type": "execute_result"
    }
   ],
   "source": [
    "total_of_gender = by_gender['counts'].sum()\n",
    "total_of_gender"
   ]
  },
  {
   "cell_type": "code",
   "execution_count": 17,
   "id": "15b84cd7",
   "metadata": {},
   "outputs": [],
   "source": [
    "# Add new column to by_gender with percentage\n",
    "percentage = []\n",
    "for i in range(by_gender.shape[0]):\n",
    "    pct = (by_gender.counts[i]/total_of_gender) * 100\n",
    "    percentage.append(round(pct,2))"
   ]
  },
  {
   "cell_type": "code",
   "execution_count": 37,
   "id": "406a6097",
   "metadata": {},
   "outputs": [
    {
     "data": {
      "text/html": [
       "<div>\n",
       "<style scoped>\n",
       "    .dataframe tbody tr th:only-of-type {\n",
       "        vertical-align: middle;\n",
       "    }\n",
       "\n",
       "    .dataframe tbody tr th {\n",
       "        vertical-align: top;\n",
       "    }\n",
       "\n",
       "    .dataframe thead th {\n",
       "        text-align: right;\n",
       "    }\n",
       "</style>\n",
       "<table border=\"1\" class=\"dataframe\">\n",
       "  <thead>\n",
       "    <tr style=\"text-align: right;\">\n",
       "      <th></th>\n",
       "      <th>gender</th>\n",
       "      <th>counts</th>\n",
       "      <th>percentage</th>\n",
       "    </tr>\n",
       "  </thead>\n",
       "  <tbody>\n",
       "    <tr>\n",
       "      <th>0</th>\n",
       "      <td>male</td>\n",
       "      <td>869</td>\n",
       "      <td>94.15</td>\n",
       "    </tr>\n",
       "    <tr>\n",
       "      <th>1</th>\n",
       "      <td>female</td>\n",
       "      <td>54</td>\n",
       "      <td>5.85</td>\n",
       "    </tr>\n",
       "  </tbody>\n",
       "</table>\n",
       "</div>"
      ],
      "text/plain": [
       "   gender  counts  percentage\n",
       "0    male     869       94.15\n",
       "1  female      54        5.85"
      ]
     },
     "execution_count": 37,
     "metadata": {},
     "output_type": "execute_result"
    }
   ],
   "source": [
    "by_gender['percentage'] = percentage\n",
    "by_gender"
   ]
  },
  {
   "cell_type": "markdown",
   "id": "5eb30575",
   "metadata": {},
   "source": [
    "we see that there are 869 male and 54 female. They got the nobel prize."
   ]
  },
  {
   "cell_type": "code",
   "execution_count": 18,
   "id": "649a3331",
   "metadata": {
    "scrolled": true
   },
   "outputs": [
    {
     "data": {
      "text/plain": [
       "Text(0.5, 1.0, 'Number of Nobel Prize winners for men and women')"
      ]
     },
     "execution_count": 18,
     "metadata": {},
     "output_type": "execute_result"
    },
    {
     "data": {
      "image/png": "[encoded data removed]",
      "text/plain": [
       "<Figure size 200x200 with 1 Axes>"
      ]
     },
     "metadata": {},
     "output_type": "display_data"
    }
   ],
   "source": [
    "#setet printing Fromat - Size and Color\n",
    "plt.figure(figsize=(2,2))\n",
    "colors_list1 = ['#335DFF', 'purple']\n",
    "#Assign column To Graph\n",
    "graph1 = plt.bar(by_gender.gender, by_gender.counts, color = colors_list1)\n",
    "#graph = plt.bar(by_gender.gender,by_gender.counts)\n",
    "plt.xticks(rotation=90)\n",
    "plt.title('Number of Nobel Prize winners for men and women')\n"
   ]
  },
  {
   "cell_type": "markdown",
   "id": "f8b02232",
   "metadata": {},
   "source": [
    "We clearly see that the above bar chart male and female long difference in nobel prize winner. "
   ]
  },
  {
   "cell_type": "markdown",
   "id": "88ff8908",
   "metadata": {},
   "source": [
    "# 10. Find the maximum and minimum age column"
   ]
  },
  {
   "cell_type": "code",
   "execution_count": 19,
   "id": "ccb82c34",
   "metadata": {},
   "outputs": [
    {
     "data": {
      "text/html": [
       "<div>\n",
       "<style scoped>\n",
       "    .dataframe tbody tr th:only-of-type {\n",
       "        vertical-align: middle;\n",
       "    }\n",
       "\n",
       "    .dataframe tbody tr th {\n",
       "        vertical-align: top;\n",
       "    }\n",
       "\n",
       "    .dataframe thead th {\n",
       "        text-align: right;\n",
       "    }\n",
       "</style>\n",
       "<table border=\"1\" class=\"dataframe\">\n",
       "  <thead>\n",
       "    <tr style=\"text-align: right;\">\n",
       "      <th></th>\n",
       "      <th>firstname</th>\n",
       "      <th>surname</th>\n",
       "      <th>born_country_code</th>\n",
       "      <th>died_country_code</th>\n",
       "      <th>gender</th>\n",
       "      <th>year</th>\n",
       "      <th>category</th>\n",
       "      <th>share</th>\n",
       "      <th>name_of_university</th>\n",
       "      <th>city_of_university</th>\n",
       "      <th>country_of_university</th>\n",
       "      <th>born_month</th>\n",
       "      <th>age</th>\n",
       "      <th>age_get_prize</th>\n",
       "    </tr>\n",
       "  </thead>\n",
       "  <tbody>\n",
       "    <tr>\n",
       "      <th>0</th>\n",
       "      <td>Wilhelm Conrad</td>\n",
       "      <td>Röntgen</td>\n",
       "      <td>DE</td>\n",
       "      <td>DE</td>\n",
       "      <td>male</td>\n",
       "      <td>1901</td>\n",
       "      <td>physics</td>\n",
       "      <td>1</td>\n",
       "      <td>Munich University</td>\n",
       "      <td>Munich</td>\n",
       "      <td>Germany</td>\n",
       "      <td>Mar</td>\n",
       "      <td>78</td>\n",
       "      <td>56</td>\n",
       "    </tr>\n",
       "    <tr>\n",
       "      <th>1</th>\n",
       "      <td>Hendrik A.</td>\n",
       "      <td>Lorentz</td>\n",
       "      <td>NL</td>\n",
       "      <td>NL</td>\n",
       "      <td>male</td>\n",
       "      <td>1902</td>\n",
       "      <td>physics</td>\n",
       "      <td>2</td>\n",
       "      <td>Leiden University</td>\n",
       "      <td>Leiden</td>\n",
       "      <td>the Netherlands</td>\n",
       "      <td>Jul</td>\n",
       "      <td>75</td>\n",
       "      <td>49</td>\n",
       "    </tr>\n",
       "  </tbody>\n",
       "</table>\n",
       "</div>"
      ],
      "text/plain": [
       "        firstname  surname born_country_code died_country_code gender  year  \\\n",
       "0  Wilhelm Conrad  Röntgen                DE                DE   male  1901   \n",
       "1      Hendrik A.  Lorentz                NL                NL   male  1902   \n",
       "\n",
       "  category  share name_of_university city_of_university country_of_university  \\\n",
       "0  physics      1  Munich University             Munich               Germany   \n",
       "1  physics      2  Leiden University             Leiden       the Netherlands   \n",
       "\n",
       "  born_month  age  age_get_prize  \n",
       "0        Mar   78             56  \n",
       "1        Jul   75             49  "
      ]
     },
     "execution_count": 19,
     "metadata": {},
     "output_type": "execute_result"
    }
   ],
   "source": [
    "data.head(2)"
   ]
  },
  {
   "cell_type": "code",
   "execution_count": 20,
   "id": "5d447b36",
   "metadata": {},
   "outputs": [
    {
     "data": {
      "text/plain": [
       "103"
      ]
     },
     "execution_count": 20,
     "metadata": {},
     "output_type": "execute_result"
    }
   ],
   "source": [
    "data['age'].max()"
   ]
  },
  {
   "cell_type": "code",
   "execution_count": 21,
   "id": "a4375c3c",
   "metadata": {},
   "outputs": [
    {
     "data": {
      "text/plain": [
       "23"
      ]
     },
     "execution_count": 21,
     "metadata": {},
     "output_type": "execute_result"
    }
   ],
   "source": [
    "data['age'].min()"
   ]
  },
  {
   "cell_type": "markdown",
   "id": "c2a83701",
   "metadata": {},
   "source": [
    "We see that maximum age 103 and minimum age 23."
   ]
  },
  {
   "cell_type": "markdown",
   "id": "ae7b295e",
   "metadata": {},
   "source": [
    "# 11. Find the maximum and minimum prize wining age of the age_get_prize column"
   ]
  },
  {
   "cell_type": "code",
   "execution_count": 22,
   "id": "6eeb1985",
   "metadata": {},
   "outputs": [
    {
     "data": {
      "text/plain": [
       "97"
      ]
     },
     "execution_count": 22,
     "metadata": {},
     "output_type": "execute_result"
    }
   ],
   "source": [
    "data['age_get_prize'].max()"
   ]
  },
  {
   "cell_type": "code",
   "execution_count": 23,
   "id": "4cc042f5",
   "metadata": {},
   "outputs": [
    {
     "data": {
      "text/plain": [
       "17"
      ]
     },
     "execution_count": 23,
     "metadata": {},
     "output_type": "execute_result"
    }
   ],
   "source": [
    "data['age_get_prize'].min()"
   ]
  },
  {
   "cell_type": "markdown",
   "id": "e42f811c",
   "metadata": {},
   "source": [
    "It holds the record for the youngest Nobel Prize winner and the oldest Nobel Prize winner. such as youngest age is 17 and oldest age is 97."
   ]
  },
  {
   "cell_type": "markdown",
   "id": "458e5bbb",
   "metadata": {},
   "source": [
    "# 12.Find the lucky month (More Nobel Prize winners than people born in any month)"
   ]
  },
  {
   "cell_type": "code",
   "execution_count": 24,
   "id": "e797305d",
   "metadata": {},
   "outputs": [
    {
     "data": {
      "text/html": [
       "<div>\n",
       "<style scoped>\n",
       "    .dataframe tbody tr th:only-of-type {\n",
       "        vertical-align: middle;\n",
       "    }\n",
       "\n",
       "    .dataframe tbody tr th {\n",
       "        vertical-align: top;\n",
       "    }\n",
       "\n",
       "    .dataframe thead th {\n",
       "        text-align: right;\n",
       "    }\n",
       "</style>\n",
       "<table border=\"1\" class=\"dataframe\">\n",
       "  <thead>\n",
       "    <tr style=\"text-align: right;\">\n",
       "      <th></th>\n",
       "      <th>firstname</th>\n",
       "      <th>surname</th>\n",
       "      <th>born_country_code</th>\n",
       "      <th>died_country_code</th>\n",
       "      <th>gender</th>\n",
       "      <th>year</th>\n",
       "      <th>category</th>\n",
       "      <th>share</th>\n",
       "      <th>name_of_university</th>\n",
       "      <th>city_of_university</th>\n",
       "      <th>country_of_university</th>\n",
       "      <th>born_month</th>\n",
       "      <th>age</th>\n",
       "      <th>age_get_prize</th>\n",
       "    </tr>\n",
       "  </thead>\n",
       "  <tbody>\n",
       "    <tr>\n",
       "      <th>0</th>\n",
       "      <td>Wilhelm Conrad</td>\n",
       "      <td>Röntgen</td>\n",
       "      <td>DE</td>\n",
       "      <td>DE</td>\n",
       "      <td>male</td>\n",
       "      <td>1901</td>\n",
       "      <td>physics</td>\n",
       "      <td>1</td>\n",
       "      <td>Munich University</td>\n",
       "      <td>Munich</td>\n",
       "      <td>Germany</td>\n",
       "      <td>Mar</td>\n",
       "      <td>78</td>\n",
       "      <td>56</td>\n",
       "    </tr>\n",
       "    <tr>\n",
       "      <th>1</th>\n",
       "      <td>Hendrik A.</td>\n",
       "      <td>Lorentz</td>\n",
       "      <td>NL</td>\n",
       "      <td>NL</td>\n",
       "      <td>male</td>\n",
       "      <td>1902</td>\n",
       "      <td>physics</td>\n",
       "      <td>2</td>\n",
       "      <td>Leiden University</td>\n",
       "      <td>Leiden</td>\n",
       "      <td>the Netherlands</td>\n",
       "      <td>Jul</td>\n",
       "      <td>75</td>\n",
       "      <td>49</td>\n",
       "    </tr>\n",
       "  </tbody>\n",
       "</table>\n",
       "</div>"
      ],
      "text/plain": [
       "        firstname  surname born_country_code died_country_code gender  year  \\\n",
       "0  Wilhelm Conrad  Röntgen                DE                DE   male  1901   \n",
       "1      Hendrik A.  Lorentz                NL                NL   male  1902   \n",
       "\n",
       "  category  share name_of_university city_of_university country_of_university  \\\n",
       "0  physics      1  Munich University             Munich               Germany   \n",
       "1  physics      2  Leiden University             Leiden       the Netherlands   \n",
       "\n",
       "  born_month  age  age_get_prize  \n",
       "0        Mar   78             56  \n",
       "1        Jul   75             49  "
      ]
     },
     "execution_count": 24,
     "metadata": {},
     "output_type": "execute_result"
    }
   ],
   "source": [
    "data.head(2)"
   ]
  },
  {
   "cell_type": "code",
   "execution_count": 25,
   "id": "b8223398",
   "metadata": {},
   "outputs": [
    {
     "data": {
      "text/plain": [
       "array(['Mar', 'Jul', 'May', 'Dec', 'Nov', 'Jun', 'Aug', 'Apr', 'Jan',\n",
       "       'Sep', 'Oct', 'Feb'], dtype=object)"
      ]
     },
     "execution_count": 25,
     "metadata": {},
     "output_type": "execute_result"
    }
   ],
   "source": [
    "data['born_month'].unique()"
   ]
  },
  {
   "cell_type": "code",
   "execution_count": 26,
   "id": "87aca218",
   "metadata": {},
   "outputs": [
    {
     "data": {
      "text/plain": [
       "12"
      ]
     },
     "execution_count": 26,
     "metadata": {},
     "output_type": "execute_result"
    }
   ],
   "source": [
    "data['born_month'].nunique()"
   ]
  },
  {
   "cell_type": "code",
   "execution_count": 27,
   "id": "38b35546",
   "metadata": {},
   "outputs": [
    {
     "data": {
      "text/html": [
       "<div>\n",
       "<style scoped>\n",
       "    .dataframe tbody tr th:only-of-type {\n",
       "        vertical-align: middle;\n",
       "    }\n",
       "\n",
       "    .dataframe tbody tr th {\n",
       "        vertical-align: top;\n",
       "    }\n",
       "\n",
       "    .dataframe thead th {\n",
       "        text-align: right;\n",
       "    }\n",
       "</style>\n",
       "<table border=\"1\" class=\"dataframe\">\n",
       "  <thead>\n",
       "    <tr style=\"text-align: right;\">\n",
       "      <th></th>\n",
       "      <th>months</th>\n",
       "      <th>counts</th>\n",
       "    </tr>\n",
       "  </thead>\n",
       "  <tbody>\n",
       "    <tr>\n",
       "      <th>0</th>\n",
       "      <td>Jun</td>\n",
       "      <td>88</td>\n",
       "    </tr>\n",
       "    <tr>\n",
       "      <th>1</th>\n",
       "      <td>Sep</td>\n",
       "      <td>84</td>\n",
       "    </tr>\n",
       "    <tr>\n",
       "      <th>2</th>\n",
       "      <td>Oct</td>\n",
       "      <td>84</td>\n",
       "    </tr>\n",
       "    <tr>\n",
       "      <th>3</th>\n",
       "      <td>May</td>\n",
       "      <td>83</td>\n",
       "    </tr>\n",
       "    <tr>\n",
       "      <th>4</th>\n",
       "      <td>Jul</td>\n",
       "      <td>79</td>\n",
       "    </tr>\n",
       "    <tr>\n",
       "      <th>5</th>\n",
       "      <td>Aug</td>\n",
       "      <td>79</td>\n",
       "    </tr>\n",
       "    <tr>\n",
       "      <th>6</th>\n",
       "      <td>Mar</td>\n",
       "      <td>75</td>\n",
       "    </tr>\n",
       "    <tr>\n",
       "      <th>7</th>\n",
       "      <td>Dec</td>\n",
       "      <td>75</td>\n",
       "    </tr>\n",
       "    <tr>\n",
       "      <th>8</th>\n",
       "      <td>Apr</td>\n",
       "      <td>73</td>\n",
       "    </tr>\n",
       "    <tr>\n",
       "      <th>9</th>\n",
       "      <td>Nov</td>\n",
       "      <td>72</td>\n",
       "    </tr>\n",
       "    <tr>\n",
       "      <th>10</th>\n",
       "      <td>Jan</td>\n",
       "      <td>71</td>\n",
       "    </tr>\n",
       "    <tr>\n",
       "      <th>11</th>\n",
       "      <td>Feb</td>\n",
       "      <td>60</td>\n",
       "    </tr>\n",
       "  </tbody>\n",
       "</table>\n",
       "</div>"
      ],
      "text/plain": [
       "   months  counts\n",
       "0     Jun      88\n",
       "1     Sep      84\n",
       "2     Oct      84\n",
       "3     May      83\n",
       "4     Jul      79\n",
       "5     Aug      79\n",
       "6     Mar      75\n",
       "7     Dec      75\n",
       "8     Apr      73\n",
       "9     Nov      72\n",
       "10    Jan      71\n",
       "11    Feb      60"
      ]
     },
     "execution_count": 27,
     "metadata": {},
     "output_type": "execute_result"
    }
   ],
   "source": [
    "by_born_month = data['born_month'].value_counts()\n",
    "by_born_month = data[\"born_month\"].value_counts().rename_axis('months').reset_index(name='counts')\n",
    "by_born_month"
   ]
  },
  {
   "cell_type": "code",
   "execution_count": 28,
   "id": "3ce8b7fb",
   "metadata": {},
   "outputs": [
    {
     "data": {
      "text/plain": [
       "Text(0.5, 1.0, 'Nobel Prize winners born in the luckiest month name')"
      ]
     },
     "execution_count": 28,
     "metadata": {},
     "output_type": "execute_result"
    },
    {
     "data": {
      "image/png": "[encoded data removed]",
      "text/plain": [
       "<Figure size 400x400 with 1 Axes>"
      ]
     },
     "metadata": {},
     "output_type": "display_data"
    }
   ],
   "source": [
    "plt.figure(figsize=(4,4))\n",
    "colors_list2 = ['#335DFF', 'purple','pink','red','#ff0080','#00ff80','#2D033B','#557153','#FF7000','#CE7777','#00005C','#497174']\n",
    "graph2 = plt.bar(by_born_month.months, by_born_month.counts, color = colors_list2)\n",
    "plt.xticks(rotation=90)\n",
    "plt.title('Nobel Prize winners born in the luckiest month name')\n",
    "# by_born_month.plot(kind=\"bar\")"
   ]
  },
  {
   "cell_type": "markdown",
   "id": "bb613e7f",
   "metadata": {},
   "source": [
    "We can see that people born in June have won the most Nobel Prizes and people born in February have received the least Nobel Prizes. "
   ]
  },
  {
   "cell_type": "markdown",
   "id": "dca1e33c",
   "metadata": {},
   "source": [
    "# 13. Which university has had the most Nobel Prize winners?"
   ]
  },
  {
   "cell_type": "code",
   "execution_count": 29,
   "id": "da17b6f2",
   "metadata": {},
   "outputs": [
    {
     "data": {
      "text/html": [
       "<div>\n",
       "<style scoped>\n",
       "    .dataframe tbody tr th:only-of-type {\n",
       "        vertical-align: middle;\n",
       "    }\n",
       "\n",
       "    .dataframe tbody tr th {\n",
       "        vertical-align: top;\n",
       "    }\n",
       "\n",
       "    .dataframe thead th {\n",
       "        text-align: right;\n",
       "    }\n",
       "</style>\n",
       "<table border=\"1\" class=\"dataframe\">\n",
       "  <thead>\n",
       "    <tr style=\"text-align: right;\">\n",
       "      <th></th>\n",
       "      <th>firstname</th>\n",
       "      <th>surname</th>\n",
       "      <th>born_country_code</th>\n",
       "      <th>died_country_code</th>\n",
       "      <th>gender</th>\n",
       "      <th>year</th>\n",
       "      <th>category</th>\n",
       "      <th>share</th>\n",
       "      <th>name_of_university</th>\n",
       "      <th>city_of_university</th>\n",
       "      <th>country_of_university</th>\n",
       "      <th>born_month</th>\n",
       "      <th>age</th>\n",
       "      <th>age_get_prize</th>\n",
       "    </tr>\n",
       "  </thead>\n",
       "  <tbody>\n",
       "    <tr>\n",
       "      <th>0</th>\n",
       "      <td>Wilhelm Conrad</td>\n",
       "      <td>Röntgen</td>\n",
       "      <td>DE</td>\n",
       "      <td>DE</td>\n",
       "      <td>male</td>\n",
       "      <td>1901</td>\n",
       "      <td>physics</td>\n",
       "      <td>1</td>\n",
       "      <td>Munich University</td>\n",
       "      <td>Munich</td>\n",
       "      <td>Germany</td>\n",
       "      <td>Mar</td>\n",
       "      <td>78</td>\n",
       "      <td>56</td>\n",
       "    </tr>\n",
       "    <tr>\n",
       "      <th>1</th>\n",
       "      <td>Hendrik A.</td>\n",
       "      <td>Lorentz</td>\n",
       "      <td>NL</td>\n",
       "      <td>NL</td>\n",
       "      <td>male</td>\n",
       "      <td>1902</td>\n",
       "      <td>physics</td>\n",
       "      <td>2</td>\n",
       "      <td>Leiden University</td>\n",
       "      <td>Leiden</td>\n",
       "      <td>the Netherlands</td>\n",
       "      <td>Jul</td>\n",
       "      <td>75</td>\n",
       "      <td>49</td>\n",
       "    </tr>\n",
       "  </tbody>\n",
       "</table>\n",
       "</div>"
      ],
      "text/plain": [
       "        firstname  surname born_country_code died_country_code gender  year  \\\n",
       "0  Wilhelm Conrad  Röntgen                DE                DE   male  1901   \n",
       "1      Hendrik A.  Lorentz                NL                NL   male  1902   \n",
       "\n",
       "  category  share name_of_university city_of_university country_of_university  \\\n",
       "0  physics      1  Munich University             Munich               Germany   \n",
       "1  physics      2  Leiden University             Leiden       the Netherlands   \n",
       "\n",
       "  born_month  age  age_get_prize  \n",
       "0        Mar   78             56  \n",
       "1        Jul   75             49  "
      ]
     },
     "execution_count": 29,
     "metadata": {},
     "output_type": "execute_result"
    }
   ],
   "source": [
    "data.head(2)"
   ]
  },
  {
   "cell_type": "code",
   "execution_count": 30,
   "id": "51738937",
   "metadata": {},
   "outputs": [
    {
     "data": {
      "text/html": [
       "<div>\n",
       "<style scoped>\n",
       "    .dataframe tbody tr th:only-of-type {\n",
       "        vertical-align: middle;\n",
       "    }\n",
       "\n",
       "    .dataframe tbody tr th {\n",
       "        vertical-align: top;\n",
       "    }\n",
       "\n",
       "    .dataframe thead th {\n",
       "        text-align: right;\n",
       "    }\n",
       "</style>\n",
       "<table border=\"1\" class=\"dataframe\">\n",
       "  <thead>\n",
       "    <tr style=\"text-align: right;\">\n",
       "      <th></th>\n",
       "      <th>Universities</th>\n",
       "      <th>counts</th>\n",
       "    </tr>\n",
       "  </thead>\n",
       "  <tbody>\n",
       "    <tr>\n",
       "      <th>0</th>\n",
       "      <td>University of California</td>\n",
       "      <td>32</td>\n",
       "    </tr>\n",
       "    <tr>\n",
       "      <th>1</th>\n",
       "      <td>Harvard University</td>\n",
       "      <td>27</td>\n",
       "    </tr>\n",
       "    <tr>\n",
       "      <th>2</th>\n",
       "      <td>Massachusetts Institute of Technology (MIT)</td>\n",
       "      <td>20</td>\n",
       "    </tr>\n",
       "  </tbody>\n",
       "</table>\n",
       "</div>"
      ],
      "text/plain": [
       "                                  Universities  counts\n",
       "0                     University of California      32\n",
       "1                           Harvard University      27\n",
       "2  Massachusetts Institute of Technology (MIT)      20"
      ]
     },
     "execution_count": 30,
     "metadata": {},
     "output_type": "execute_result"
    }
   ],
   "source": [
    "by_name_of_university =data['name_of_university'].value_counts()\n",
    "by_name_of_university = data[\"name_of_university\"].value_counts().rename_axis('Universities').reset_index(name='counts')\n",
    "by_name_of_university.head(3)"
   ]
  },
  {
   "cell_type": "code",
   "execution_count": 31,
   "id": "74aeae07",
   "metadata": {},
   "outputs": [
    {
     "data": {
      "text/html": [
       "<div>\n",
       "<style scoped>\n",
       "    .dataframe tbody tr th:only-of-type {\n",
       "        vertical-align: middle;\n",
       "    }\n",
       "\n",
       "    .dataframe tbody tr th {\n",
       "        vertical-align: top;\n",
       "    }\n",
       "\n",
       "    .dataframe thead th {\n",
       "        text-align: right;\n",
       "    }\n",
       "</style>\n",
       "<table border=\"1\" class=\"dataframe\">\n",
       "  <thead>\n",
       "    <tr style=\"text-align: right;\">\n",
       "      <th></th>\n",
       "      <th>Universities</th>\n",
       "      <th>counts</th>\n",
       "    </tr>\n",
       "  </thead>\n",
       "  <tbody>\n",
       "    <tr>\n",
       "      <th>304</th>\n",
       "      <td>Kaiser-Wilhelm-Institut (now Max-Planck-Instit...</td>\n",
       "      <td>1</td>\n",
       "    </tr>\n",
       "    <tr>\n",
       "      <th>305</th>\n",
       "      <td>University of Rochester</td>\n",
       "      <td>1</td>\n",
       "    </tr>\n",
       "    <tr>\n",
       "      <th>306</th>\n",
       "      <td>Asahi Kasei Corporation</td>\n",
       "      <td>1</td>\n",
       "    </tr>\n",
       "  </tbody>\n",
       "</table>\n",
       "</div>"
      ],
      "text/plain": [
       "                                          Universities  counts\n",
       "304  Kaiser-Wilhelm-Institut (now Max-Planck-Instit...       1\n",
       "305                            University of Rochester       1\n",
       "306                            Asahi Kasei Corporation       1"
      ]
     },
     "execution_count": 31,
     "metadata": {},
     "output_type": "execute_result"
    }
   ],
   "source": [
    "by_name_of_university.tail(3)"
   ]
  },
  {
   "cell_type": "code",
   "execution_count": 32,
   "id": "8bb344e6",
   "metadata": {},
   "outputs": [
    {
     "name": "stdout",
     "output_type": "stream",
     "text": [
      "<class 'pandas.core.frame.DataFrame'>\n",
      "RangeIndex: 307 entries, 0 to 306\n",
      "Data columns (total 2 columns):\n",
      " #   Column        Non-Null Count  Dtype \n",
      "---  ------        --------------  ----- \n",
      " 0   Universities  307 non-null    object\n",
      " 1   counts        307 non-null    int64 \n",
      "dtypes: int64(1), object(1)\n",
      "memory usage: 4.9+ KB\n"
     ]
    }
   ],
   "source": [
    "by_name_of_university.info()"
   ]
  },
  {
   "cell_type": "markdown",
   "id": "aa7b932e",
   "metadata": {},
   "source": [
    "We find that there are 307 universities. Among them, graduates of the University of California have won more Nobel Prizes."
   ]
  },
  {
   "cell_type": "markdown",
   "id": "ac48f641",
   "metadata": {},
   "source": [
    "# 14. Which country's universities have won more Nobel Prizes and won least  Nobel Prizes?"
   ]
  },
  {
   "cell_type": "code",
   "execution_count": 33,
   "id": "c9d044fa",
   "metadata": {},
   "outputs": [
    {
     "data": {
      "text/html": [
       "<div>\n",
       "<style scoped>\n",
       "    .dataframe tbody tr th:only-of-type {\n",
       "        vertical-align: middle;\n",
       "    }\n",
       "\n",
       "    .dataframe tbody tr th {\n",
       "        vertical-align: top;\n",
       "    }\n",
       "\n",
       "    .dataframe thead th {\n",
       "        text-align: right;\n",
       "    }\n",
       "</style>\n",
       "<table border=\"1\" class=\"dataframe\">\n",
       "  <thead>\n",
       "    <tr style=\"text-align: right;\">\n",
       "      <th></th>\n",
       "      <th>country_of_university</th>\n",
       "      <th>counts</th>\n",
       "    </tr>\n",
       "  </thead>\n",
       "  <tbody>\n",
       "    <tr>\n",
       "      <th>0</th>\n",
       "      <td>USA</td>\n",
       "      <td>358</td>\n",
       "    </tr>\n",
       "    <tr>\n",
       "      <th>1</th>\n",
       "      <td>United Kingdom</td>\n",
       "      <td>92</td>\n",
       "    </tr>\n",
       "    <tr>\n",
       "      <th>2</th>\n",
       "      <td>Germany</td>\n",
       "      <td>66</td>\n",
       "    </tr>\n",
       "  </tbody>\n",
       "</table>\n",
       "</div>"
      ],
      "text/plain": [
       "  country_of_university  counts\n",
       "0                   USA     358\n",
       "1        United Kingdom      92\n",
       "2               Germany      66"
      ]
     },
     "execution_count": 33,
     "metadata": {},
     "output_type": "execute_result"
    }
   ],
   "source": [
    "by_country_of_university =data['country_of_university'].value_counts()\n",
    "by_country_of_university = data[\"country_of_university\"].value_counts().rename_axis('country_of_university').reset_index(name='counts')\n",
    "by_country_of_university.head(3)"
   ]
  },
  {
   "cell_type": "code",
   "execution_count": 34,
   "id": "a28c64df",
   "metadata": {},
   "outputs": [
    {
     "data": {
      "text/html": [
       "<div>\n",
       "<style scoped>\n",
       "    .dataframe tbody tr th:only-of-type {\n",
       "        vertical-align: middle;\n",
       "    }\n",
       "\n",
       "    .dataframe tbody tr th {\n",
       "        vertical-align: top;\n",
       "    }\n",
       "\n",
       "    .dataframe thead th {\n",
       "        text-align: right;\n",
       "    }\n",
       "</style>\n",
       "<table border=\"1\" class=\"dataframe\">\n",
       "  <thead>\n",
       "    <tr style=\"text-align: right;\">\n",
       "      <th></th>\n",
       "      <th>country_of_university</th>\n",
       "      <th>counts</th>\n",
       "    </tr>\n",
       "  </thead>\n",
       "  <tbody>\n",
       "    <tr>\n",
       "      <th>26</th>\n",
       "      <td>Ireland</td>\n",
       "      <td>1</td>\n",
       "    </tr>\n",
       "    <tr>\n",
       "      <th>27</th>\n",
       "      <td>India</td>\n",
       "      <td>1</td>\n",
       "    </tr>\n",
       "    <tr>\n",
       "      <th>28</th>\n",
       "      <td>China</td>\n",
       "      <td>1</td>\n",
       "    </tr>\n",
       "  </tbody>\n",
       "</table>\n",
       "</div>"
      ],
      "text/plain": [
       "   country_of_university  counts\n",
       "26               Ireland       1\n",
       "27                 India       1\n",
       "28                 China       1"
      ]
     },
     "execution_count": 34,
     "metadata": {},
     "output_type": "execute_result"
    }
   ],
   "source": [
    "by_country_of_university.tail(3)"
   ]
  },
  {
   "cell_type": "markdown",
   "id": "46a605bf",
   "metadata": {},
   "source": [
    "Students from universities in the USA have won the most Nobel Prizes. Students at UK universities are in second place. India, Ireland and China won one Nobel Prize each."
   ]
  },
  {
   "cell_type": "code",
   "execution_count": 35,
   "id": "a0521bb4",
   "metadata": {},
   "outputs": [
    {
     "name": "stdout",
     "output_type": "stream",
     "text": [
      "<class 'pandas.core.frame.DataFrame'>\n",
      "RangeIndex: 29 entries, 0 to 28\n",
      "Data columns (total 2 columns):\n",
      " #   Column                 Non-Null Count  Dtype \n",
      "---  ------                 --------------  ----- \n",
      " 0   country_of_university  29 non-null     object\n",
      " 1   counts                 29 non-null     int64 \n",
      "dtypes: int64(1), object(1)\n",
      "memory usage: 592.0+ bytes\n"
     ]
    }
   ],
   "source": [
    "by_country_of_university.info(3)"
   ]
  },
  {
   "cell_type": "code",
   "execution_count": 42,
   "id": "a1358798",
   "metadata": {},
   "outputs": [
    {
     "data": {
      "text/plain": [
       "Text(0.5, 1.0, 'Nobel Prize winners country name')"
      ]
     },
     "execution_count": 42,
     "metadata": {},
     "output_type": "execute_result"
    },
    {
     "data": {
      "image/png": "[encoded data removed]",
      "text/plain": [
       "<Figure size 1200x800 with 1 Axes>"
      ]
     },
     "metadata": {},
     "output_type": "display_data"
    }
   ],
   "source": [
    "plt.figure(figsize=(12,8))\n",
    "colors_list3 = ['#335DFF','IndianRed','DeepPink','OrangeRed','Gold','Magenta','purple','pink','red','DarkMagenta','DarkSlateBlue','#ff0080','#00ff80','#2D033B','#557153','#FF7000','#CE7777','MediumAquamarine','GreenYellow','#00005C','#497174','MediumSlateBlue','Goldenrod','Maroon','LightSlateGray','RosyBrown','DeepSkyBlue','SpringGreen']\n",
    "graph3 = plt.bar(by_country_of_university.country_of_university, by_country_of_university.counts, color = colors_list3)\n",
    "plt.xticks(rotation=90)\n",
    "plt.title('Nobel Prize winners country name')\n"
   ]
  },
  {
   "cell_type": "markdown",
   "id": "90b8d38c",
   "metadata": {},
   "source": [
    "# 15. How many categories Nobel Prize was provided?"
   ]
  },
  {
   "cell_type": "code",
   "execution_count": 44,
   "id": "b6403a6f",
   "metadata": {},
   "outputs": [
    {
     "data": {
      "text/html": [
       "<div>\n",
       "<style scoped>\n",
       "    .dataframe tbody tr th:only-of-type {\n",
       "        vertical-align: middle;\n",
       "    }\n",
       "\n",
       "    .dataframe tbody tr th {\n",
       "        vertical-align: top;\n",
       "    }\n",
       "\n",
       "    .dataframe thead th {\n",
       "        text-align: right;\n",
       "    }\n",
       "</style>\n",
       "<table border=\"1\" class=\"dataframe\">\n",
       "  <thead>\n",
       "    <tr style=\"text-align: right;\">\n",
       "      <th></th>\n",
       "      <th>firstname</th>\n",
       "      <th>surname</th>\n",
       "      <th>born_country_code</th>\n",
       "      <th>died_country_code</th>\n",
       "      <th>gender</th>\n",
       "      <th>year</th>\n",
       "      <th>category</th>\n",
       "      <th>share</th>\n",
       "      <th>name_of_university</th>\n",
       "      <th>city_of_university</th>\n",
       "      <th>country_of_university</th>\n",
       "      <th>born_month</th>\n",
       "      <th>age</th>\n",
       "      <th>age_get_prize</th>\n",
       "    </tr>\n",
       "  </thead>\n",
       "  <tbody>\n",
       "    <tr>\n",
       "      <th>0</th>\n",
       "      <td>Wilhelm Conrad</td>\n",
       "      <td>Röntgen</td>\n",
       "      <td>DE</td>\n",
       "      <td>DE</td>\n",
       "      <td>male</td>\n",
       "      <td>1901</td>\n",
       "      <td>physics</td>\n",
       "      <td>1</td>\n",
       "      <td>Munich University</td>\n",
       "      <td>Munich</td>\n",
       "      <td>Germany</td>\n",
       "      <td>Mar</td>\n",
       "      <td>78</td>\n",
       "      <td>56</td>\n",
       "    </tr>\n",
       "    <tr>\n",
       "      <th>1</th>\n",
       "      <td>Hendrik A.</td>\n",
       "      <td>Lorentz</td>\n",
       "      <td>NL</td>\n",
       "      <td>NL</td>\n",
       "      <td>male</td>\n",
       "      <td>1902</td>\n",
       "      <td>physics</td>\n",
       "      <td>2</td>\n",
       "      <td>Leiden University</td>\n",
       "      <td>Leiden</td>\n",
       "      <td>the Netherlands</td>\n",
       "      <td>Jul</td>\n",
       "      <td>75</td>\n",
       "      <td>49</td>\n",
       "    </tr>\n",
       "  </tbody>\n",
       "</table>\n",
       "</div>"
      ],
      "text/plain": [
       "        firstname  surname born_country_code died_country_code gender  year  \\\n",
       "0  Wilhelm Conrad  Röntgen                DE                DE   male  1901   \n",
       "1      Hendrik A.  Lorentz                NL                NL   male  1902   \n",
       "\n",
       "  category  share name_of_university city_of_university country_of_university  \\\n",
       "0  physics      1  Munich University             Munich               Germany   \n",
       "1  physics      2  Leiden University             Leiden       the Netherlands   \n",
       "\n",
       "  born_month  age  age_get_prize  \n",
       "0        Mar   78             56  \n",
       "1        Jul   75             49  "
      ]
     },
     "execution_count": 44,
     "metadata": {},
     "output_type": "execute_result"
    }
   ],
   "source": [
    "data.head(2)"
   ]
  },
  {
   "cell_type": "code",
   "execution_count": 45,
   "id": "e40e21b7",
   "metadata": {},
   "outputs": [
    {
     "data": {
      "text/plain": [
       "array(['physics', 'chemistry', 'peace', 'medicine', 'literature',\n",
       "       'economics'], dtype=object)"
      ]
     },
     "execution_count": 45,
     "metadata": {},
     "output_type": "execute_result"
    }
   ],
   "source": [
    "data['category'].unique()"
   ]
  },
  {
   "cell_type": "code",
   "execution_count": 46,
   "id": "2ada065d",
   "metadata": {},
   "outputs": [
    {
     "data": {
      "text/plain": [
       "6"
      ]
     },
     "execution_count": 46,
     "metadata": {},
     "output_type": "execute_result"
    }
   ],
   "source": [
    "data['category'].nunique()"
   ]
  },
  {
   "cell_type": "markdown",
   "id": "6ead8982",
   "metadata": {},
   "source": [
    "We see that Nobel Prizesare awarded in subjects."
   ]
  },
  {
   "cell_type": "code",
   "execution_count": 53,
   "id": "0d8b4617",
   "metadata": {},
   "outputs": [
    {
     "data": {
      "text/html": [
       "<div>\n",
       "<style scoped>\n",
       "    .dataframe tbody tr th:only-of-type {\n",
       "        vertical-align: middle;\n",
       "    }\n",
       "\n",
       "    .dataframe tbody tr th {\n",
       "        vertical-align: top;\n",
       "    }\n",
       "\n",
       "    .dataframe thead th {\n",
       "        text-align: right;\n",
       "    }\n",
       "</style>\n",
       "<table border=\"1\" class=\"dataframe\">\n",
       "  <thead>\n",
       "    <tr style=\"text-align: right;\">\n",
       "      <th></th>\n",
       "      <th>category</th>\n",
       "      <th>counts</th>\n",
       "    </tr>\n",
       "  </thead>\n",
       "  <tbody>\n",
       "    <tr>\n",
       "      <th>0</th>\n",
       "      <td>medicine</td>\n",
       "      <td>219</td>\n",
       "    </tr>\n",
       "    <tr>\n",
       "      <th>1</th>\n",
       "      <td>physics</td>\n",
       "      <td>213</td>\n",
       "    </tr>\n",
       "    <tr>\n",
       "      <th>2</th>\n",
       "      <td>chemistry</td>\n",
       "      <td>184</td>\n",
       "    </tr>\n",
       "    <tr>\n",
       "      <th>3</th>\n",
       "      <td>literature</td>\n",
       "      <td>116</td>\n",
       "    </tr>\n",
       "    <tr>\n",
       "      <th>4</th>\n",
       "      <td>peace</td>\n",
       "      <td>107</td>\n",
       "    </tr>\n",
       "    <tr>\n",
       "      <th>5</th>\n",
       "      <td>economics</td>\n",
       "      <td>84</td>\n",
       "    </tr>\n",
       "  </tbody>\n",
       "</table>\n",
       "</div>"
      ],
      "text/plain": [
       "     category  counts\n",
       "0    medicine     219\n",
       "1     physics     213\n",
       "2   chemistry     184\n",
       "3  literature     116\n",
       "4       peace     107\n",
       "5   economics      84"
      ]
     },
     "execution_count": 53,
     "metadata": {},
     "output_type": "execute_result"
    }
   ],
   "source": [
    "by_category = data[\"category\"].value_counts().rename_axis('category').reset_index(name='counts')\n",
    "by_category\n"
   ]
  },
  {
   "cell_type": "markdown",
   "id": "d0e73627",
   "metadata": {},
   "source": [
    "Here it appears that medicine has been awarded the most Nobel prizes. Then given in Physics followed by Chemistry. Fewest Nobel Prizes have been awarded in economics."
   ]
  },
  {
   "cell_type": "code",
   "execution_count": 54,
   "id": "06460dcc",
   "metadata": {},
   "outputs": [
    {
     "data": {
      "text/plain": [
       "923"
      ]
     },
     "execution_count": 54,
     "metadata": {},
     "output_type": "execute_result"
    }
   ],
   "source": [
    "total_of_category = by_category['counts'].sum()\n",
    "total_of_category"
   ]
  },
  {
   "cell_type": "markdown",
   "id": "13e28c6c",
   "metadata": {},
   "source": [
    "# 16. Create a pie chart with the percentage of subjects that have been awarded Nobel Prizes."
   ]
  },
  {
   "cell_type": "code",
   "execution_count": 55,
   "id": "fa3a0f7c",
   "metadata": {},
   "outputs": [],
   "source": [
    "#Set lables and values\n",
    "your_lables = by_category.category\n",
    "your_values = by_category.counts"
   ]
  },
  {
   "cell_type": "code",
   "execution_count": 57,
   "id": "3de18395",
   "metadata": {},
   "outputs": [
    {
     "data": {
      "image/png": "[encoded data removed]",
      "text/plain": [
       "<Figure size 640x480 with 1 Axes>"
      ]
     },
     "metadata": {},
     "output_type": "display_data"
    }
   ],
   "source": [
    "#visualize the pie chart\n",
    "fig = plt.figure()\n",
    "ax = fig.add_axes([0,0,1,1])\n",
    "ax.axis('equal')\n",
    "\n",
    "ax.pie(your_values, labels = your_lables, autopct='%1.2f%%')\n",
    "plt.show()"
   ]
  },
  {
   "cell_type": "markdown",
   "id": "90fc1d1f",
   "metadata": {},
   "source": [
    "In above pie chart we can see that Medicine is 23.73 percent, Physics is 23.08 percent nearly closed of medicine. In the lowest percent is economics. It is 9.10 percent."
   ]
  }
 ],
 "metadata": {
  "kernelspec": {
   "display_name": "Python 3 (ipykernel)",
   "language": "python",
   "name": "python3"
  },
  "language_info": {
   "codemirror_mode": {
    "name": "ipython",
    "version": 3
   },
   "file_extension": ".py",
   "mimetype": "text/x-python",
   "name": "python",
   "nbconvert_exporter": "python",
   "pygments_lexer": "ipython3",
   "version": "3.9.13"
  }
 },
 "nbformat": 4,
 "nbformat_minor": 5
}
